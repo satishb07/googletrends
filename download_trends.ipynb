{
 "cells": [
  {
   "cell_type": "code",
   "execution_count": null,
   "metadata": {},
   "outputs": [],
   "source": [
    "import datetime, traceback\n",
    "import pandas as pd\n",
    "from pytrends.request import TrendReq\n",
    "from dateutil.relativedelta import relativedelta as rd"
   ]
  },
  {
   "cell_type": "code",
   "execution_count": null,
   "metadata": {},
   "outputs": [],
   "source": [
    "trends = TrendReq(hl='en-US')\n",
    "kw_list = [\"bitcoin\"]\n",
    "start_date = datetime.date(2015,1,1)\n",
    "end_date = datetime.date.today()"
   ]
  },
  {
   "cell_type": "code",
   "execution_count": null,
   "metadata": {},
   "outputs": [],
   "source": [
    "hourly_data = trends.get_historical_interest(kw_list,\n",
    "                                             year_start=start_date.year,\n",
    "                                             month_start=start_date.month,\n",
    "                                             day_start=start_date.day,\n",
    "                                             hour_start=0,\n",
    "                                             year_end=end_date.year,\n",
    "                                             month_end=end_date.month,\n",
    "                                             day_end=end_date.day,\n",
    "                                             hour_end=0, cat=0, geo='', gprop='', sleep=5)"
   ]
  },
  {
   "cell_type": "code",
   "execution_count": null,
   "metadata": {},
   "outputs": [],
   "source": [
    "weekly_data = pd.DataFrame(columns=['bitcoin', 'isPartial'])\n",
    "daily_data = pd.DataFrame(columns=['bitcoin', 'isPartial'])"
   ]
  },
  {
   "cell_type": "code",
   "execution_count": null,
   "metadata": {},
   "outputs": [],
   "source": [
    "while start_date<end_date:\n",
    "    try:    \n",
    "        print(start_date)\n",
    "        weekly_txt = F'{start_date} {start_date + rd(years=1)}'\n",
    "        trends.build_payload(kw_list, cat=0, timeframe=weekly_txt, geo='', gprop='')\n",
    "        weekly_data = weekly_data.append(trends.interest_over_time())\n",
    "        while start_date.month< 12:\n",
    "            daily_txt = f'{start_date} {start_date + rd(months=1)}'\n",
    "            trends.build_payload(kw_list, cat=0, timeframe=daily_txt, geo='', gprop='')\n",
    "            daily_data = daily_data.append(trends.interest_over_time())\n",
    "            start_date += rd(months=1)\n",
    "        daily_txt = f'{start_date} {start_date + rd(months=1)}'\n",
    "        start_date += rd(months=1)\n",
    "    except Exception:\n",
    "        if 'response with code 400' in traceback.format_exc():\n",
    "            print('Downloading completed')\n",
    "        else:\n",
    "            print(traceback.format_exc())\n",
    "        break"
   ]
  },
  {
   "cell_type": "code",
   "execution_count": null,
   "metadata": {},
   "outputs": [],
   "source": [
    "weekly_data.to_csv('weekly_data')\n",
    "daily_data.to_csv('daily_data')\n",
    "hourly_data.to_csv('hourly_data')"
   ]
  }
 ],
 "metadata": {
  "kernelspec": {
   "display_name": "Python 3.10.6 64-bit",
   "language": "python",
   "name": "python3"
  },
  "language_info": {
   "codemirror_mode": {
    "name": "ipython",
    "version": 3
   },
   "file_extension": ".py",
   "mimetype": "text/x-python",
   "name": "python",
   "nbconvert_exporter": "python",
   "pygments_lexer": "ipython3",
   "version": "3.10.6"
  },
  "orig_nbformat": 4,
  "vscode": {
   "interpreter": {
    "hash": "b0fa6594d8f4cbf19f97940f81e996739fb7646882a419484c72d19e05852a7e"
   }
  }
 },
 "nbformat": 4,
 "nbformat_minor": 2
}
